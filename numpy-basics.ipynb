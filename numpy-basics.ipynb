{
 "cells": [
  {
   "cell_type": "markdown",
   "id": "f2899fd4",
   "metadata": {
    "papermill": {
     "duration": 0.021791,
     "end_time": "2024-03-09T18:48:49.497792",
     "exception": false,
     "start_time": "2024-03-09T18:48:49.476001",
     "status": "completed"
    },
    "tags": []
   },
   "source": [
    "**In the beginning, this notebook is a summary of the Numpy Library. I prepared it to help anyone study this library, and I wish everyone success.**"
   ]
  },
  {
   "cell_type": "code",
   "execution_count": 1,
   "id": "e8b2bac6",
   "metadata": {
    "execution": {
     "iopub.execute_input": "2024-03-09T18:48:49.538195Z",
     "iopub.status.busy": "2024-03-09T18:48:49.537821Z",
     "iopub.status.idle": "2024-03-09T18:48:49.550360Z",
     "shell.execute_reply": "2024-03-09T18:48:49.549239Z"
    },
    "papermill": {
     "duration": 0.036118,
     "end_time": "2024-03-09T18:48:49.553440",
     "exception": false,
     "start_time": "2024-03-09T18:48:49.517322",
     "status": "completed"
    },
    "tags": []
   },
   "outputs": [],
   "source": [
    "# ! pip install numpy"
   ]
  },
  {
   "cell_type": "code",
   "execution_count": 2,
   "id": "b3d1ee42",
   "metadata": {
    "execution": {
     "iopub.execute_input": "2024-03-09T18:48:49.596751Z",
     "iopub.status.busy": "2024-03-09T18:48:49.595785Z",
     "iopub.status.idle": "2024-03-09T18:48:49.608710Z",
     "shell.execute_reply": "2024-03-09T18:48:49.606665Z"
    },
    "papermill": {
     "duration": 0.038112,
     "end_time": "2024-03-09T18:48:49.612688",
     "exception": false,
     "start_time": "2024-03-09T18:48:49.574576",
     "status": "completed"
    },
    "tags": []
   },
   "outputs": [],
   "source": [
    "import numpy as np"
   ]
  },
  {
   "cell_type": "markdown",
   "id": "039c8062",
   "metadata": {
    "papermill": {
     "duration": 0.01964,
     "end_time": "2024-03-09T18:48:49.659391",
     "exception": false,
     "start_time": "2024-03-09T18:48:49.639751",
     "status": "completed"
    },
    "tags": []
   },
   "source": [
    "##### Trigonometric functions"
   ]
  },
  {
   "cell_type": "code",
   "execution_count": 3,
   "id": "2722b788",
   "metadata": {
    "execution": {
     "iopub.execute_input": "2024-03-09T18:48:49.700489Z",
     "iopub.status.busy": "2024-03-09T18:48:49.699893Z",
     "iopub.status.idle": "2024-03-09T18:48:49.711346Z",
     "shell.execute_reply": "2024-03-09T18:48:49.710167Z"
    },
    "papermill": {
     "duration": 0.035146,
     "end_time": "2024-03-09T18:48:49.714169",
     "exception": false,
     "start_time": "2024-03-09T18:48:49.679023",
     "status": "completed"
    },
    "tags": []
   },
   "outputs": [
    {
     "name": "stdout",
     "output_type": "stream",
     "text": [
      "-0.9880316240928618 -0.9524129804151563\n",
      "0.49999999999999994 0.5000000000000001\n",
      "0.49999999999999994 0.5000000000000001\n"
     ]
    }
   ],
   "source": [
    "# Python deal with trigonometric functions(sin,cos,tan,...) as redian  not degree\n",
    "a = np.sin(30) # sin (30) = -0.9880316240928618 not 0.5\n",
    "b = np.cos(60) # cos (60) = -0.9524129804151563 not 0.5\n",
    "print(a,b)\n",
    "\n",
    "# First we must return it to radian\n",
    "arad = np.sin(30*np.pi/180)\n",
    "brad = np.cos(60*np.pi/180)\n",
    "print(arad,brad)\n",
    "\n",
    "# Or use deg2rad function in numpy\n",
    "a1 = np.sin(np.deg2rad(30))\n",
    "b1 = np.cos(np.deg2rad(60))\n",
    "print(a1,b1)"
   ]
  },
  {
   "cell_type": "code",
   "execution_count": 4,
   "id": "32d31104",
   "metadata": {
    "execution": {
     "iopub.execute_input": "2024-03-09T18:48:49.756716Z",
     "iopub.status.busy": "2024-03-09T18:48:49.756241Z",
     "iopub.status.idle": "2024-03-09T18:48:49.763278Z",
     "shell.execute_reply": "2024-03-09T18:48:49.761947Z"
    },
    "papermill": {
     "duration": 0.032683,
     "end_time": "2024-03-09T18:48:49.766805",
     "exception": false,
     "start_time": "2024-03-09T18:48:49.734122",
     "status": "completed"
    },
    "tags": []
   },
   "outputs": [
    {
     "name": "stdout",
     "output_type": "stream",
     "text": [
      "3.0\n",
      "3.25649\n"
     ]
    }
   ],
   "source": [
    "# round function in numpy\n",
    "rnd = np.round(3.256489) \n",
    "rnd1= np.round(3.256489,5)\n",
    "print(rnd)\n",
    "print(rnd1)"
   ]
  },
  {
   "cell_type": "code",
   "execution_count": 5,
   "id": "2a4d8bc6",
   "metadata": {
    "execution": {
     "iopub.execute_input": "2024-03-09T18:48:49.809513Z",
     "iopub.status.busy": "2024-03-09T18:48:49.808989Z",
     "iopub.status.idle": "2024-03-09T18:48:49.815728Z",
     "shell.execute_reply": "2024-03-09T18:48:49.814437Z"
    },
    "papermill": {
     "duration": 0.031368,
     "end_time": "2024-03-09T18:48:49.818459",
     "exception": false,
     "start_time": "2024-03-09T18:48:49.787091",
     "status": "completed"
    },
    "tags": []
   },
   "outputs": [
    {
     "name": "stdout",
     "output_type": "stream",
     "text": [
      "Mod = 6\n"
     ]
    }
   ],
   "source": [
    "# Mod in numpy\n",
    "md = np.mod(20,7)\n",
    "print(f'Mod = {md}')"
   ]
  },
  {
   "cell_type": "markdown",
   "id": "edd2991a",
   "metadata": {
    "papermill": {
     "duration": 0.020932,
     "end_time": "2024-03-09T18:48:49.859654",
     "exception": false,
     "start_time": "2024-03-09T18:48:49.838722",
     "status": "completed"
    },
    "tags": []
   },
   "source": [
    "##### Matrices"
   ]
  },
  {
   "cell_type": "code",
   "execution_count": 6,
   "id": "c820defd",
   "metadata": {
    "execution": {
     "iopub.execute_input": "2024-03-09T18:48:49.901101Z",
     "iopub.status.busy": "2024-03-09T18:48:49.900721Z",
     "iopub.status.idle": "2024-03-09T18:48:49.913197Z",
     "shell.execute_reply": "2024-03-09T18:48:49.911645Z"
    },
    "papermill": {
     "duration": 0.036074,
     "end_time": "2024-03-09T18:48:49.915651",
     "exception": false,
     "start_time": "2024-03-09T18:48:49.879577",
     "status": "completed"
    },
    "tags": []
   },
   "outputs": [
    {
     "name": "stdout",
     "output_type": "stream",
     "text": [
      "mat1d\n",
      "[1 2 3 4 5]\n",
      "mat2d\n",
      "[[1 2 3]\n",
      " [4 5 6]\n",
      " [7 8 9]]\n",
      "mat3d\n",
      "[[[1 2]\n",
      "  [3 4]]\n",
      "\n",
      " [[5 6]\n",
      "  [7 8]]]\n"
     ]
    }
   ],
   "source": [
    "# First create matrix from list  by use array\n",
    "# 1_dim\n",
    "lis = [1,2,3,4,5]\n",
    "mat1d = np.array(lis)\n",
    "# Or mat = np.array([1,2,3,4,5])\n",
    "print('mat1d')\n",
    "print(mat1d)\n",
    "\n",
    "# 2_dim\n",
    "lis2d = [[1,2,3],[4,5,6],[7,8,9]] # 3*3\n",
    "mat2d = np.array(lis2d)\n",
    "print('mat2d')\n",
    "print(mat2d)\n",
    "\n",
    "# 3_dim\n",
    "lis3d = [[[1,2],[3,4]],[[5,6],[7,8]]] # 2 * 2 * 2\n",
    "mat3d = np.array(lis3d)\n",
    "print('mat3d')\n",
    "print(mat3d)"
   ]
  },
  {
   "cell_type": "code",
   "execution_count": 7,
   "id": "8ff6ca0f",
   "metadata": {
    "execution": {
     "iopub.execute_input": "2024-03-09T18:48:49.958121Z",
     "iopub.status.busy": "2024-03-09T18:48:49.957647Z",
     "iopub.status.idle": "2024-03-09T18:48:49.967486Z",
     "shell.execute_reply": "2024-03-09T18:48:49.966157Z"
    },
    "papermill": {
     "duration": 0.034278,
     "end_time": "2024-03-09T18:48:49.970089",
     "exception": false,
     "start_time": "2024-03-09T18:48:49.935811",
     "status": "completed"
    },
    "tags": []
   },
   "outputs": [
    {
     "name": "stdout",
     "output_type": "stream",
     "text": [
      "[[2 3 4]\n",
      " [4 5 6]\n",
      " [6 7 8]]\n",
      "[('x', 3, 4.2) ('y', 4, 5.3) ('z', 5, 6.4)]\n"
     ]
    }
   ],
   "source": [
    "# way2 by range function\n",
    "mat2d = np.array([range(x,x+3) for x in [2,4,6]])\n",
    "print(mat2d)\n",
    "\n",
    "# we can difine name about each element in matrix\n",
    "mat = np.array([('x',3,4.2),('y',4,5.3),('z',5,6.4)],dtype=[('name','U5'),('number','i2'),('value','f4')])\n",
    "print(mat)"
   ]
  },
  {
   "cell_type": "code",
   "execution_count": 8,
   "id": "f529654a",
   "metadata": {
    "execution": {
     "iopub.execute_input": "2024-03-09T18:48:50.012751Z",
     "iopub.status.busy": "2024-03-09T18:48:50.012252Z",
     "iopub.status.idle": "2024-03-09T18:48:50.018633Z",
     "shell.execute_reply": "2024-03-09T18:48:50.017521Z"
    },
    "papermill": {
     "duration": 0.031895,
     "end_time": "2024-03-09T18:48:50.022101",
     "exception": false,
     "start_time": "2024-03-09T18:48:49.990206",
     "status": "completed"
    },
    "tags": []
   },
   "outputs": [
    {
     "name": "stdout",
     "output_type": "stream",
     "text": [
      "[[4.89366280e-310 0.00000000e+000]\n",
      " [2.14321575e-312 2.22809558e-312]\n",
      " [2.46151512e-312 5.68175493e-322]]\n"
     ]
    }
   ],
   "source": [
    "# Make empty matrix\n",
    "emp = np.empty((3,2))\n",
    "print(emp)"
   ]
  },
  {
   "cell_type": "code",
   "execution_count": 9,
   "id": "3cdf8c6e",
   "metadata": {
    "execution": {
     "iopub.execute_input": "2024-03-09T18:48:50.075404Z",
     "iopub.status.busy": "2024-03-09T18:48:50.074897Z",
     "iopub.status.idle": "2024-03-09T18:48:50.081723Z",
     "shell.execute_reply": "2024-03-09T18:48:50.080361Z"
    },
    "papermill": {
     "duration": 0.032876,
     "end_time": "2024-03-09T18:48:50.083983",
     "exception": false,
     "start_time": "2024-03-09T18:48:50.051107",
     "status": "completed"
    },
    "tags": []
   },
   "outputs": [
    {
     "name": "stdout",
     "output_type": "stream",
     "text": [
      "[0. 0. 0. 0. 0. 0. 0. 0.]\n"
     ]
    }
   ],
   "source": [
    "# Make a matrix that is all zeros\n",
    "matz1d = np.zeros(8) # 1*N\n",
    "print(matz1d)\n",
    "#matz2d = np.zeros((3,2)) # N*M\n",
    "#matz3d = np.zeros((2,2,2)) # N*M*D"
   ]
  },
  {
   "cell_type": "code",
   "execution_count": 10,
   "id": "87923b4d",
   "metadata": {
    "execution": {
     "iopub.execute_input": "2024-03-09T18:48:50.128563Z",
     "iopub.status.busy": "2024-03-09T18:48:50.128037Z",
     "iopub.status.idle": "2024-03-09T18:48:50.135191Z",
     "shell.execute_reply": "2024-03-09T18:48:50.133920Z"
    },
    "papermill": {
     "duration": 0.032371,
     "end_time": "2024-03-09T18:48:50.137401",
     "exception": false,
     "start_time": "2024-03-09T18:48:50.105030",
     "status": "completed"
    },
    "tags": []
   },
   "outputs": [
    {
     "name": "stdout",
     "output_type": "stream",
     "text": [
      "[1. 1. 1. 1. 1. 1. 1. 1.]\n"
     ]
    }
   ],
   "source": [
    "# Make a matrix that is all ones\n",
    "mato1d = np.ones(8) # 1*N\n",
    "print(mato1d)\n",
    "#mato2d = np.ones((3,2)) # N*M\n",
    "#mato3d = np.ones((2,2,2)) # N*M*D"
   ]
  },
  {
   "cell_type": "code",
   "execution_count": 11,
   "id": "1a53c17a",
   "metadata": {
    "execution": {
     "iopub.execute_input": "2024-03-09T18:48:50.180730Z",
     "iopub.status.busy": "2024-03-09T18:48:50.180249Z",
     "iopub.status.idle": "2024-03-09T18:48:50.187357Z",
     "shell.execute_reply": "2024-03-09T18:48:50.185822Z"
    },
    "papermill": {
     "duration": 0.031486,
     "end_time": "2024-03-09T18:48:50.189532",
     "exception": false,
     "start_time": "2024-03-09T18:48:50.158046",
     "status": "completed"
    },
    "tags": []
   },
   "outputs": [
    {
     "name": "stdout",
     "output_type": "stream",
     "text": [
      "[[7 7 7]\n",
      " [7 7 7]\n",
      " [7 7 7]]\n"
     ]
    }
   ],
   "source": [
    "# Make a matrix that is all the same number\n",
    "mat = np.full((3,3),7)\n",
    "print(mat)"
   ]
  },
  {
   "cell_type": "code",
   "execution_count": 12,
   "id": "357aaee5",
   "metadata": {
    "execution": {
     "iopub.execute_input": "2024-03-09T18:48:50.232585Z",
     "iopub.status.busy": "2024-03-09T18:48:50.232100Z",
     "iopub.status.idle": "2024-03-09T18:48:50.238689Z",
     "shell.execute_reply": "2024-03-09T18:48:50.237429Z"
    },
    "papermill": {
     "duration": 0.031337,
     "end_time": "2024-03-09T18:48:50.241251",
     "exception": false,
     "start_time": "2024-03-09T18:48:50.209914",
     "status": "completed"
    },
    "tags": []
   },
   "outputs": [
    {
     "name": "stdout",
     "output_type": "stream",
     "text": [
      "[[1. 0. 0.]\n",
      " [0. 1. 0.]\n",
      " [0. 0. 1.]]\n"
     ]
    }
   ],
   "source": [
    "# Make a unit matrix\n",
    "I = np.eye(3)\n",
    "print(I)"
   ]
  },
  {
   "cell_type": "code",
   "execution_count": 13,
   "id": "bbb7c566",
   "metadata": {
    "execution": {
     "iopub.execute_input": "2024-03-09T18:48:50.285225Z",
     "iopub.status.busy": "2024-03-09T18:48:50.284744Z",
     "iopub.status.idle": "2024-03-09T18:48:50.291829Z",
     "shell.execute_reply": "2024-03-09T18:48:50.290506Z"
    },
    "papermill": {
     "duration": 0.032411,
     "end_time": "2024-03-09T18:48:50.294443",
     "exception": false,
     "start_time": "2024-03-09T18:48:50.262032",
     "status": "completed"
    },
    "tags": []
   },
   "outputs": [
    {
     "name": "stdout",
     "output_type": "stream",
     "text": [
      "[[1 0 0 0 0]\n",
      " [0 2 0 0 0]\n",
      " [0 0 3 0 0]\n",
      " [0 0 0 4 0]\n",
      " [0 0 0 0 5]]\n"
     ]
    }
   ],
   "source": [
    "# Making the diagonal matrix\n",
    "dig_mat = np.diag(np.array([1,2,3,4,5]))\n",
    "print(dig_mat)"
   ]
  },
  {
   "cell_type": "code",
   "execution_count": 14,
   "id": "11e6f100",
   "metadata": {
    "execution": {
     "iopub.execute_input": "2024-03-09T18:48:50.337830Z",
     "iopub.status.busy": "2024-03-09T18:48:50.337447Z",
     "iopub.status.idle": "2024-03-09T18:48:50.344003Z",
     "shell.execute_reply": "2024-03-09T18:48:50.342866Z"
    },
    "papermill": {
     "duration": 0.031365,
     "end_time": "2024-03-09T18:48:50.346704",
     "exception": false,
     "start_time": "2024-03-09T18:48:50.315339",
     "status": "completed"
    },
    "tags": []
   },
   "outputs": [
    {
     "name": "stdout",
     "output_type": "stream",
     "text": [
      "[[0 0 1 0 0 0 0]\n",
      " [0 0 0 2 0 0 0]\n",
      " [0 0 0 0 3 0 0]\n",
      " [0 0 0 0 0 4 0]\n",
      " [0 0 0 0 0 0 5]\n",
      " [0 0 0 0 0 0 0]\n",
      " [0 0 0 0 0 0 0]]\n"
     ]
    }
   ],
   "source": [
    "# Making the diagonal matrix and add k row & k col with zero values at the beginning\n",
    "dig_mat_k_r_c = np.diag(np.array([1,2,3,4,5]),k=2)\n",
    "print(dig_mat_k_r_c)"
   ]
  },
  {
   "cell_type": "code",
   "execution_count": 15,
   "id": "73dab2ef",
   "metadata": {
    "execution": {
     "iopub.execute_input": "2024-03-09T18:48:50.391623Z",
     "iopub.status.busy": "2024-03-09T18:48:50.391261Z",
     "iopub.status.idle": "2024-03-09T18:48:50.402248Z",
     "shell.execute_reply": "2024-03-09T18:48:50.401188Z"
    },
    "papermill": {
     "duration": 0.03504,
     "end_time": "2024-03-09T18:48:50.404594",
     "exception": false,
     "start_time": "2024-03-09T18:48:50.369554",
     "status": "completed"
    },
    "tags": []
   },
   "outputs": [
    {
     "data": {
      "text/plain": [
       "(5, 3.0, 1.4142135623730951, 2.0, 1.0, 1, 4, 0)"
      ]
     },
     "execution_count": 15,
     "metadata": {},
     "output_type": "execute_result"
    }
   ],
   "source": [
    "# Obtain max value, average, std value, variance, correlation coefficient, and  min value in the matrix\n",
    "# np.argmax(x) , np.argmin(x) return index_array\n",
    "x = np.array([1,2,3,4,5])\n",
    "np.max(x) , np.mean(x) , np.std(x) , np.var(x) , np.corrcoef(x) , np.min(x) , np.argmax(x) , np.argmin(x)"
   ]
  },
  {
   "cell_type": "code",
   "execution_count": 16,
   "id": "9064ea97",
   "metadata": {
    "execution": {
     "iopub.execute_input": "2024-03-09T18:48:50.447797Z",
     "iopub.status.busy": "2024-03-09T18:48:50.447392Z",
     "iopub.status.idle": "2024-03-09T18:48:50.455600Z",
     "shell.execute_reply": "2024-03-09T18:48:50.454458Z"
    },
    "papermill": {
     "duration": 0.032819,
     "end_time": "2024-03-09T18:48:50.458160",
     "exception": false,
     "start_time": "2024-03-09T18:48:50.425341",
     "status": "completed"
    },
    "tags": []
   },
   "outputs": [
    {
     "name": "stdout",
     "output_type": "stream",
     "text": [
      "[ 0  1  2  3  4  5  6  7  8  9 10 11]\n",
      "[10 11 12 13 14 15 16 17]\n",
      "dimintional = 1\n",
      "Type numbers int64\n",
      "matrix lenth  = 8\n"
     ]
    }
   ],
   "source": [
    "\"\"\"\n",
    "Make matrix by use arange function \n",
    "\"\"\"\n",
    "a = np.arange(12) # 0 ...N\n",
    "b = np.arange(10,18) # x...y-1\n",
    "print(a)\n",
    "print(b)\n",
    "\n",
    "dim = a.ndim # Or np.ndim(a)\n",
    "print(f'dimintional = {dim}')\n",
    "\n",
    "print(f'Type numbers {a.dtype}')\n",
    "\n",
    "len1 = len(b)  \n",
    "# len(b) == b.size   in one dimintional  -> return matrix length\n",
    "print(f'matrix lenth  = {len1}')"
   ]
  },
  {
   "cell_type": "code",
   "execution_count": 17,
   "id": "8885f0c6",
   "metadata": {
    "execution": {
     "iopub.execute_input": "2024-03-09T18:48:50.502299Z",
     "iopub.status.busy": "2024-03-09T18:48:50.501895Z",
     "iopub.status.idle": "2024-03-09T18:48:50.509353Z",
     "shell.execute_reply": "2024-03-09T18:48:50.508222Z"
    },
    "papermill": {
     "duration": 0.033072,
     "end_time": "2024-03-09T18:48:50.512243",
     "exception": false,
     "start_time": "2024-03-09T18:48:50.479171",
     "status": "completed"
    },
    "tags": []
   },
   "outputs": [
    {
     "name": "stdout",
     "output_type": "stream",
     "text": [
      "[[ 0  1  2  3]\n",
      " [ 4  5  6  7]\n",
      " [ 8  9 10 11]]\n",
      "dimintional     = 2\n",
      "Matrix shape    (3, 4)\n",
      "Type numbers    int64\n",
      "matrix lenth    = 3\n",
      "matrix size     = 12\n"
     ]
    }
   ],
   "source": [
    "# Make 2d matrix by use arange function\n",
    "mat = np.arange(12).reshape(3,4) \n",
    "# Note in reshape must n*m = number in arange function\n",
    "print(mat)\n",
    "\n",
    "dim = mat.ndim # Or np.ndim(a)\n",
    "print(f'dimintional     = {dim}')\n",
    "\n",
    "print(f'Matrix shape    {mat.shape}')\n",
    "\n",
    "print(f'Type numbers    {mat.dtype}')\n",
    "\n",
    "len1 = len(mat)  \n",
    "# len(mat)  -> return number of rows\n",
    "print(f'matrix lenth    = {len1}')\n",
    "\n",
    "size1 = mat.size  \n",
    "# mat.size  -> return number of all elements in matrix\n",
    "print(f'matrix size     = {size1}')"
   ]
  },
  {
   "cell_type": "code",
   "execution_count": 18,
   "id": "ab89b13c",
   "metadata": {
    "execution": {
     "iopub.execute_input": "2024-03-09T18:48:50.557032Z",
     "iopub.status.busy": "2024-03-09T18:48:50.556664Z",
     "iopub.status.idle": "2024-03-09T18:48:50.565180Z",
     "shell.execute_reply": "2024-03-09T18:48:50.563935Z"
    },
    "papermill": {
     "duration": 0.034302,
     "end_time": "2024-03-09T18:48:50.568011",
     "exception": false,
     "start_time": "2024-03-09T18:48:50.533709",
     "status": "completed"
    },
    "tags": []
   },
   "outputs": [
    {
     "name": "stdout",
     "output_type": "stream",
     "text": [
      "[[[ 0  1  2]\n",
      "  [ 3  4  5]\n",
      "  [ 6  7  8]\n",
      "  [ 9 10 11]\n",
      "  [12 13 14]\n",
      "  [15 16 17]]\n",
      "\n",
      " [[18 19 20]\n",
      "  [21 22 23]\n",
      "  [24 25 26]\n",
      "  [27 28 29]\n",
      "  [30 31 32]\n",
      "  [33 34 35]]]\n",
      "dimintional       = 3\n",
      "Matrix shape      (2, 6, 3)\n",
      "Type numbers      int64\n",
      "matrix lenth      = 2\n",
      "matrix size       = 36\n"
     ]
    }
   ],
   "source": [
    "# Make 3d matrix by use arange function\n",
    "mat = np.arange(36).reshape(2,6,3) \n",
    "# Note in reshape must n*m*d = number in arange function\n",
    "print(mat)\n",
    "\n",
    "dim = mat.ndim # Or np.ndim(a)\n",
    "print(f'dimintional       = {dim}')\n",
    "\n",
    "print(f'Matrix shape      {mat.shape}')\n",
    "\n",
    "print(f'Type numbers      {mat.dtype}')\n",
    "\n",
    "len1 = len(mat)  \n",
    "# len(mat)  -> return number of layer\n",
    "print(f'matrix lenth      = {len1}')\n",
    "\n",
    "size1 = mat.size  \n",
    "# mat.size  -> return number of all elements in matrix\n",
    "print(f'matrix size       = {size1}')"
   ]
  },
  {
   "cell_type": "code",
   "execution_count": 19,
   "id": "b3c80e4f",
   "metadata": {
    "execution": {
     "iopub.execute_input": "2024-03-09T18:48:50.672310Z",
     "iopub.status.busy": "2024-03-09T18:48:50.671665Z",
     "iopub.status.idle": "2024-03-09T18:48:50.696477Z",
     "shell.execute_reply": "2024-03-09T18:48:50.695233Z"
    },
    "papermill": {
     "duration": 0.109037,
     "end_time": "2024-03-09T18:48:50.698978",
     "exception": false,
     "start_time": "2024-03-09T18:48:50.589941",
     "status": "completed"
    },
    "tags": []
   },
   "outputs": [
    {
     "name": "stdout",
     "output_type": "stream",
     "text": [
      "[[0 1]\n",
      " [2 3]]\n",
      "3\n",
      "-2.0\n",
      "eigenvalues = EigResult(eigenvalues=array([-0.56155281,  3.56155281]), eigenvectors=array([[-0.87192821, -0.27032301],\n",
      "       [ 0.48963374, -0.96276969]]))\n"
     ]
    }
   ],
   "source": [
    "# Calculate determinde , trace diagonal for matrix\n",
    "mat = np.arange(4).reshape(2,2)\n",
    "print(mat)\n",
    "sumdig = np.trace(mat)\n",
    "# sum elements of digonal\n",
    "print(sumdig) \n",
    "\n",
    "det = np.linalg.det(mat)\n",
    "print(det)\n",
    "\n",
    "eig = np.linalg.eig(mat)\n",
    "# Compute the eigenvalues and right eigenvectors of a square array.\n",
    "print(f'eigenvalues = {eig}')"
   ]
  },
  {
   "cell_type": "markdown",
   "id": "7043200c",
   "metadata": {
    "papermill": {
     "duration": 0.020916,
     "end_time": "2024-03-09T18:48:50.741775",
     "exception": false,
     "start_time": "2024-03-09T18:48:50.720859",
     "status": "completed"
    },
    "tags": []
   },
   "source": [
    "##### Find the inverabce of the matrix\n",
    "###### $$\\hat{A}^{-1}  =  \\hat{adj(A) / |A| ;} \\hat{|A|≠ 0} $$"
   ]
  },
  {
   "cell_type": "code",
   "execution_count": 20,
   "id": "8171288c",
   "metadata": {
    "execution": {
     "iopub.execute_input": "2024-03-09T18:48:50.786468Z",
     "iopub.status.busy": "2024-03-09T18:48:50.785793Z",
     "iopub.status.idle": "2024-03-09T18:48:50.793910Z",
     "shell.execute_reply": "2024-03-09T18:48:50.793030Z"
    },
    "papermill": {
     "duration": 0.037688,
     "end_time": "2024-03-09T18:48:50.800768",
     "exception": false,
     "start_time": "2024-03-09T18:48:50.763080",
     "status": "completed"
    },
    "tags": []
   },
   "outputs": [
    {
     "name": "stdout",
     "output_type": "stream",
     "text": [
      "[[-1.5  0.5]\n",
      " [ 1.   0. ]]\n",
      "[[1. 0.]\n",
      " [0. 1.]]\n"
     ]
    }
   ],
   "source": [
    "mat = np.arange(4).reshape(2,2)\n",
    "\n",
    "inv = np.linalg.inv(mat)\n",
    "#A-1 = adj(A) / |A|; |A| ≠ 0\n",
    "# inv = np.linalg.inv(mat).astype(np.int64)\n",
    "print(inv) \n",
    "\n",
    "print(np.dot(mat,inv)) # np.dot(mat,inv) => eye matrix"
   ]
  },
  {
   "cell_type": "markdown",
   "id": "74262523",
   "metadata": {
    "papermill": {
     "duration": 0.023086,
     "end_time": "2024-03-09T18:48:50.852275",
     "exception": false,
     "start_time": "2024-03-09T18:48:50.829189",
     "status": "completed"
    },
    "tags": []
   },
   "source": [
    "##### Random function in numpy"
   ]
  },
  {
   "cell_type": "code",
   "execution_count": 21,
   "id": "a810dbc5",
   "metadata": {
    "execution": {
     "iopub.execute_input": "2024-03-09T18:48:50.899918Z",
     "iopub.status.busy": "2024-03-09T18:48:50.899256Z",
     "iopub.status.idle": "2024-03-09T18:48:50.908971Z",
     "shell.execute_reply": "2024-03-09T18:48:50.907476Z"
    },
    "papermill": {
     "duration": 0.036202,
     "end_time": "2024-03-09T18:48:50.911472",
     "exception": false,
     "start_time": "2024-03-09T18:48:50.875270",
     "status": "completed"
    },
    "tags": []
   },
   "outputs": [
    {
     "name": "stdout",
     "output_type": "stream",
     "text": [
      "Number  = 9.597147614086007\n",
      "Array = [4.80479788 1.30000662 9.07093873 3.94107759 5.62616877]\n"
     ]
    }
   ],
   "source": [
    "nuiform_num = np.random.uniform(1,10)\n",
    "# return ramdon float number between 1,10\n",
    "print(f'Number  = {nuiform_num}')\n",
    "\n",
    "nuiform_num1 = np.random.uniform(1,10,5)\n",
    "# retrun array of  5 random float numbers between 1,10 \n",
    "print(f'Array = {nuiform_num1}')"
   ]
  },
  {
   "cell_type": "code",
   "execution_count": 22,
   "id": "647c65dc",
   "metadata": {
    "execution": {
     "iopub.execute_input": "2024-03-09T18:48:50.956871Z",
     "iopub.status.busy": "2024-03-09T18:48:50.956186Z",
     "iopub.status.idle": "2024-03-09T18:48:50.961977Z",
     "shell.execute_reply": "2024-03-09T18:48:50.961226Z"
    },
    "papermill": {
     "duration": 0.031228,
     "end_time": "2024-03-09T18:48:50.964320",
     "exception": false,
     "start_time": "2024-03-09T18:48:50.933092",
     "status": "completed"
    },
    "tags": []
   },
   "outputs": [
    {
     "name": "stdout",
     "output_type": "stream",
     "text": [
      "[[0.21311557 0.40704664 0.33434265]\n",
      " [0.37425469 0.04037365 0.7506483 ]]\n",
      "$$\n",
      "[[2.1311557  4.07046637 3.34342648]\n",
      " [3.74254695 0.40373647 7.50648305]]\n"
     ]
    }
   ],
   "source": [
    "rand_mat = np.random.random((2,3))\n",
    "# retrun 2-D array N row * M col contain random numbers (0 --> 1) \n",
    "print(rand_mat) \n",
    "# if we need numbers 0-->10\n",
    "print('$$')\n",
    "print(rand_mat*10)"
   ]
  },
  {
   "cell_type": "code",
   "execution_count": 23,
   "id": "cacd13f6",
   "metadata": {
    "execution": {
     "iopub.execute_input": "2024-03-09T18:48:51.009920Z",
     "iopub.status.busy": "2024-03-09T18:48:51.009221Z",
     "iopub.status.idle": "2024-03-09T18:48:51.014817Z",
     "shell.execute_reply": "2024-03-09T18:48:51.013814Z"
    },
    "papermill": {
     "duration": 0.030828,
     "end_time": "2024-03-09T18:48:51.016788",
     "exception": false,
     "start_time": "2024-03-09T18:48:50.985960",
     "status": "completed"
    },
    "tags": []
   },
   "outputs": [
    {
     "name": "stdout",
     "output_type": "stream",
     "text": [
      "[-3.08559839 -0.65459421 -1.27449046 -0.13032292  0.81474467]\n"
     ]
    }
   ],
   "source": [
    "norm = np.random.normal(0,1,5)\n",
    "# retrun normal distribution to z nmbers between x,y (contain ngtiv,postive number) \n",
    "print(norm)"
   ]
  },
  {
   "cell_type": "code",
   "execution_count": 24,
   "id": "b56b1b6f",
   "metadata": {
    "execution": {
     "iopub.execute_input": "2024-03-09T18:48:51.062403Z",
     "iopub.status.busy": "2024-03-09T18:48:51.061628Z",
     "iopub.status.idle": "2024-03-09T18:48:51.072323Z",
     "shell.execute_reply": "2024-03-09T18:48:51.071076Z"
    },
    "papermill": {
     "duration": 0.036214,
     "end_time": "2024-03-09T18:48:51.074618",
     "exception": false,
     "start_time": "2024-03-09T18:48:51.038404",
     "status": "completed"
    },
    "tags": []
   },
   "outputs": [
    {
     "name": "stdout",
     "output_type": "stream",
     "text": [
      "146\n",
      "[4 2 3 2 4 0]\n",
      "[12  6  6  8  6 10 12]\n",
      "[[0 0 6]\n",
      " [4 3 2]\n",
      " [2 2 1]]\n",
      "[[[1 0 8]\n",
      "  [2 1 6]\n",
      "  [2 1 4]\n",
      "  [0 8 2]]\n",
      "\n",
      " [[4 0 1]\n",
      "  [6 7 7]\n",
      "  [5 7 8]\n",
      "  [3 3 3]]]\n",
      "[[44  3 20 35  7]\n",
      " [ 3  4 53 21 41]\n",
      " [32 53 26 17 48]\n",
      " [53 58 43 42 47]\n",
      " [19 50 17 24 34]]\n"
     ]
    }
   ],
   "source": [
    "num = np.random.randint(150)\n",
    "# randint(150) return one number between (0-149)\n",
    "print(num)\n",
    "\n",
    "num1 = np.random.randint(5,size=6)\n",
    "# randint(5,size=6) return 6 numbers from 0 to 4 and allows repetition\n",
    "print(num1)\n",
    "\n",
    "num2 = np.random.randint(5,20,size=7)\n",
    "# randint(5,20,size=7) return 7 numbers from 5 to 19 and allows repetition\n",
    "print(num2)\n",
    "\n",
    "num3 = np.random.randint(0,10,(3,3))\n",
    "#Returns random numbers from 0 to 10 as a two-dimensional array and allows repetition.\n",
    "print(num3)\n",
    "\n",
    "num4 = np.random.randint(0,10,(2,4,3))\n",
    "#Returns random numbers from 0 to 10 as a three-dimensional array and allows repetition.\n",
    "print(num4)\n",
    "\n",
    "num5 = np.random.randint(1,60,size=25)\n",
    "num6 = np.reshape(num5,(5,5))\n",
    "# Or num5 = np.random.randint(1,60,size=25).reshape(5,5)\n",
    "\n",
    "#Returns random numbers from 1 to 59 \n",
    "#Then make reshape as a two-dimensional array and allows repetition.\n",
    "# We need to make sure that the dimensions are correct for this\n",
    "print(num6)"
   ]
  },
  {
   "cell_type": "code",
   "execution_count": 25,
   "id": "a37095e6",
   "metadata": {
    "execution": {
     "iopub.execute_input": "2024-03-09T18:48:51.120854Z",
     "iopub.status.busy": "2024-03-09T18:48:51.120415Z",
     "iopub.status.idle": "2024-03-09T18:48:51.128813Z",
     "shell.execute_reply": "2024-03-09T18:48:51.128061Z"
    },
    "papermill": {
     "duration": 0.035585,
     "end_time": "2024-03-09T18:48:51.132271",
     "exception": false,
     "start_time": "2024-03-09T18:48:51.096686",
     "status": "completed"
    },
    "tags": []
   },
   "outputs": [
    {
     "name": "stdout",
     "output_type": "stream",
     "text": [
      "[0.69259706 0.88522451 0.71974031 0.81129831 0.80213068]\n",
      "[[0.65916948 0.51649142]\n",
      " [0.26206289 0.25257874]]\n"
     ]
    },
    {
     "data": {
      "text/plain": [
       "'rand3 = np.random.rand(2,2,2)\\n# return 3-D array contain random numbers from 0-1\\nprint(rand3)'"
      ]
     },
     "execution_count": 25,
     "metadata": {},
     "output_type": "execute_result"
    }
   ],
   "source": [
    "rand1 = np.random.rand(5)\n",
    "# return 1-D array contain 5 random numbers from 0-1 \n",
    "print(rand1)\n",
    "\n",
    "rand2 = np.random.rand(2,2)\n",
    "# return 2-D array contain random numbers from 0-1\n",
    "print(rand2)\n",
    "\n",
    "\"\"\"rand3 = np.random.rand(2,2,2)\n",
    "# return 3-D array contain random numbers from 0-1\n",
    "print(rand3)\"\"\""
   ]
  },
  {
   "cell_type": "code",
   "execution_count": 26,
   "id": "a6bacea7",
   "metadata": {
    "execution": {
     "iopub.execute_input": "2024-03-09T18:48:51.178429Z",
     "iopub.status.busy": "2024-03-09T18:48:51.177688Z",
     "iopub.status.idle": "2024-03-09T18:48:51.183983Z",
     "shell.execute_reply": "2024-03-09T18:48:51.182895Z"
    },
    "papermill": {
     "duration": 0.032146,
     "end_time": "2024-03-09T18:48:51.186418",
     "exception": false,
     "start_time": "2024-03-09T18:48:51.154272",
     "status": "completed"
    },
    "tags": []
   },
   "outputs": [
    {
     "name": "stdout",
     "output_type": "stream",
     "text": [
      "[5, 1, 2, 3, 4]\n"
     ]
    }
   ],
   "source": [
    "shf = [1,2,3,4,5]\n",
    "np.random.shuffle(shf)\n",
    "print(shf)"
   ]
  },
  {
   "cell_type": "code",
   "execution_count": 27,
   "id": "0f4458ed",
   "metadata": {
    "execution": {
     "iopub.execute_input": "2024-03-09T18:48:51.232537Z",
     "iopub.status.busy": "2024-03-09T18:48:51.232154Z",
     "iopub.status.idle": "2024-03-09T18:48:51.238588Z",
     "shell.execute_reply": "2024-03-09T18:48:51.237508Z"
    },
    "papermill": {
     "duration": 0.032693,
     "end_time": "2024-03-09T18:48:51.241080",
     "exception": false,
     "start_time": "2024-03-09T18:48:51.208387",
     "status": "completed"
    },
    "tags": []
   },
   "outputs": [
    {
     "name": "stdout",
     "output_type": "stream",
     "text": [
      "5\n"
     ]
    }
   ],
   "source": [
    "lis = [1,2,3,4,5,6]\n",
    "choic1 = np.random.choice(lis)\n",
    "print(choic1)"
   ]
  },
  {
   "cell_type": "markdown",
   "id": "24f96c1b",
   "metadata": {
    "papermill": {
     "duration": 0.021953,
     "end_time": "2024-03-09T18:48:51.285314",
     "exception": false,
     "start_time": "2024-03-09T18:48:51.263361",
     "status": "completed"
    },
    "tags": []
   },
   "source": [
    "##### Linespace"
   ]
  },
  {
   "cell_type": "code",
   "execution_count": 28,
   "id": "78fa89ae",
   "metadata": {
    "execution": {
     "iopub.execute_input": "2024-03-09T18:48:51.331339Z",
     "iopub.status.busy": "2024-03-09T18:48:51.330924Z",
     "iopub.status.idle": "2024-03-09T18:48:51.339046Z",
     "shell.execute_reply": "2024-03-09T18:48:51.337913Z"
    },
    "papermill": {
     "duration": 0.03447,
     "end_time": "2024-03-09T18:48:51.342006",
     "exception": false,
     "start_time": "2024-03-09T18:48:51.307536",
     "status": "completed"
    },
    "tags": []
   },
   "outputs": [
    {
     "name": "stdout",
     "output_type": "stream",
     "text": [
      "Length line1 = 50\n",
      "[ 0.          0.6122449   1.2244898   1.83673469  2.44897959  3.06122449\n",
      "  3.67346939  4.28571429  4.89795918  5.51020408  6.12244898  6.73469388\n",
      "  7.34693878  7.95918367  8.57142857  9.18367347  9.79591837 10.40816327\n",
      " 11.02040816 11.63265306 12.24489796 12.85714286 13.46938776 14.08163265\n",
      " 14.69387755 15.30612245 15.91836735 16.53061224 17.14285714 17.75510204\n",
      " 18.36734694 18.97959184 19.59183673 20.20408163 20.81632653 21.42857143\n",
      " 22.04081633 22.65306122 23.26530612 23.87755102 24.48979592 25.10204082\n",
      " 25.71428571 26.32653061 26.93877551 27.55102041 28.16326531 28.7755102\n",
      " 29.3877551  30.        ]\n",
      "Length line1 = 5\n",
      "[ 30.   47.5  65.   82.5 100. ]\n"
     ]
    }
   ],
   "source": [
    "# linespace (x,y)\n",
    "\"\"\"\n",
    "In this case, it comes with numbers distributed evenly between x and y including. \n",
    "The number of digits, if not specified, is 50.\n",
    "If it exists, we divide by it\n",
    "The equation for the increase between numbers is (y - x) / 50\n",
    "The equation for the increase between numbers (x,y,z) is (y - x) / z\n",
    "\"\"\"\n",
    "line1 = np.linspace(0,30)\n",
    "print(f'Length line1 = {len(line1)}')\n",
    "print(line1)\n",
    "line2 = np.linspace(30,100,5)\n",
    "print(f'Length line1 = {len(line2)}')\n",
    "print(line2)"
   ]
  },
  {
   "cell_type": "code",
   "execution_count": 29,
   "id": "1c80fb05",
   "metadata": {
    "execution": {
     "iopub.execute_input": "2024-03-09T18:48:51.389058Z",
     "iopub.status.busy": "2024-03-09T18:48:51.388673Z",
     "iopub.status.idle": "2024-03-09T18:48:51.396638Z",
     "shell.execute_reply": "2024-03-09T18:48:51.395441Z"
    },
    "papermill": {
     "duration": 0.035171,
     "end_time": "2024-03-09T18:48:51.399817",
     "exception": false,
     "start_time": "2024-03-09T18:48:51.364646",
     "status": "completed"
    },
    "tags": []
   },
   "outputs": [
    {
     "name": "stdout",
     "output_type": "stream",
     "text": [
      "[[0 4 1]\n",
      " [1 7 4]\n",
      " [0 4 3]]\n",
      "Nonzeros = 7\n",
      "Nonzeros>5 = 1\n",
      "[0 1 0]\n",
      "[3 3 3]\n"
     ]
    }
   ],
   "source": [
    "mat = np.random.randint(0,10,size=9).reshape(3,3)\n",
    "print(mat)\n",
    "\n",
    "count = np.count_nonzero(mat)\n",
    "print(f'Nonzeros = {count}')\n",
    "\n",
    "count2 = np.count_nonzero(mat>5)\n",
    "print(f'Nonzeros>5 = {count2}')\n",
    "\n",
    "c = np.count_nonzero(mat>5,axis=1)\n",
    "# Works on rows and return array\n",
    "print(c)\n",
    "\n",
    "c1 = np.count_nonzero(mat<8,axis=0)\n",
    "# Works on cols and return array\n",
    "print(c1)"
   ]
  },
  {
   "cell_type": "code",
   "execution_count": 30,
   "id": "eac6278f",
   "metadata": {
    "execution": {
     "iopub.execute_input": "2024-03-09T18:48:51.446854Z",
     "iopub.status.busy": "2024-03-09T18:48:51.446476Z",
     "iopub.status.idle": "2024-03-09T18:48:51.453355Z",
     "shell.execute_reply": "2024-03-09T18:48:51.452192Z"
    },
    "papermill": {
     "duration": 0.033918,
     "end_time": "2024-03-09T18:48:51.456292",
     "exception": false,
     "start_time": "2024-03-09T18:48:51.422374",
     "status": "completed"
    },
    "tags": []
   },
   "outputs": [
    {
     "name": "stdout",
     "output_type": "stream",
     "text": [
      "True\n",
      "[ True  True]\n",
      "False\n"
     ]
    }
   ],
   "source": [
    "x = np.array([[1,2,3],[4,5,6]])\n",
    "flag = np.any(x>2)\n",
    "print(flag)\n",
    "\n",
    "flag1 = np.any(x>2,axis=1)\n",
    "print(flag1)\n",
    "\n",
    "flag2 = np.all(x>2)\n",
    "print(flag2)"
   ]
  },
  {
   "cell_type": "code",
   "execution_count": 31,
   "id": "07903224",
   "metadata": {
    "execution": {
     "iopub.execute_input": "2024-03-09T18:48:51.503090Z",
     "iopub.status.busy": "2024-03-09T18:48:51.502706Z",
     "iopub.status.idle": "2024-03-09T18:48:51.511120Z",
     "shell.execute_reply": "2024-03-09T18:48:51.510055Z"
    },
    "papermill": {
     "duration": 0.035706,
     "end_time": "2024-03-09T18:48:51.514542",
     "exception": false,
     "start_time": "2024-03-09T18:48:51.478836",
     "status": "completed"
    },
    "tags": []
   },
   "outputs": [
    {
     "name": "stdout",
     "output_type": "stream",
     "text": [
      "[2 3 4 5 6 7]\n",
      "[[ 4  6  8 10 12 14]\n",
      " [ 6  9 12 15 18 21]\n",
      " [ 8 12 16 20 24 28]\n",
      " [10 15 20 25 30 35]\n",
      " [12 18 24 30 36 42]\n",
      " [14 21 28 35 42 49]]\n"
     ]
    },
    {
     "data": {
      "text/plain": [
       "array([   2,    6,   24,  120,  720, 5040])"
      ]
     },
     "execution_count": 31,
     "metadata": {},
     "output_type": "execute_result"
    }
   ],
   "source": [
    "m = np.arange(2,8)\n",
    "mat = np.multiply.outer(m,m)\n",
    "print(m)\n",
    "print(mat)\n",
    "\n",
    "np.multiply.accumulate(m)"
   ]
  },
  {
   "cell_type": "code",
   "execution_count": 32,
   "id": "7d0cd512",
   "metadata": {
    "execution": {
     "iopub.execute_input": "2024-03-09T18:48:51.561855Z",
     "iopub.status.busy": "2024-03-09T18:48:51.561484Z",
     "iopub.status.idle": "2024-03-09T18:48:51.568543Z",
     "shell.execute_reply": "2024-03-09T18:48:51.567394Z"
    },
    "papermill": {
     "duration": 0.033764,
     "end_time": "2024-03-09T18:48:51.571024",
     "exception": false,
     "start_time": "2024-03-09T18:48:51.537260",
     "status": "completed"
    },
    "tags": []
   },
   "outputs": [
    {
     "data": {
      "text/plain": [
       "array([ 2,  5, 10])"
      ]
     },
     "execution_count": 32,
     "metadata": {},
     "output_type": "execute_result"
    }
   ],
   "source": [
    "np.add.accumulate([2, 3, 5])"
   ]
  },
  {
   "cell_type": "code",
   "execution_count": 33,
   "id": "de4f5abf",
   "metadata": {
    "execution": {
     "iopub.execute_input": "2024-03-09T18:48:51.620075Z",
     "iopub.status.busy": "2024-03-09T18:48:51.619687Z",
     "iopub.status.idle": "2024-03-09T18:48:51.626559Z",
     "shell.execute_reply": "2024-03-09T18:48:51.625491Z"
    },
    "papermill": {
     "duration": 0.034614,
     "end_time": "2024-03-09T18:48:51.629443",
     "exception": false,
     "start_time": "2024-03-09T18:48:51.594829",
     "status": "completed"
    },
    "tags": []
   },
   "outputs": [
    {
     "name": "stdout",
     "output_type": "stream",
     "text": [
      "[[0 1]\n",
      " [2 3]]\n",
      "[[0 2]\n",
      " [4 6]]\n",
      "[[0 1 0 2]\n",
      " [2 3 4 6]]\n"
     ]
    }
   ],
   "source": [
    "# hstack function\n",
    "# a,b must the same number of rows\n",
    "a = np.arange(4).reshape(2,2)\n",
    "b = 2*np.arange(4).reshape(2,2)\n",
    "print(a)\n",
    "print(b)\n",
    "h = np.hstack((a,b))\n",
    "# Or h = np.concatenate([a,b],axis=1)\n",
    "print(h)"
   ]
  },
  {
   "cell_type": "code",
   "execution_count": 34,
   "id": "6cfd0444",
   "metadata": {
    "execution": {
     "iopub.execute_input": "2024-03-09T18:48:51.677637Z",
     "iopub.status.busy": "2024-03-09T18:48:51.677256Z",
     "iopub.status.idle": "2024-03-09T18:48:51.684111Z",
     "shell.execute_reply": "2024-03-09T18:48:51.683170Z"
    },
    "papermill": {
     "duration": 0.034014,
     "end_time": "2024-03-09T18:48:51.686475",
     "exception": false,
     "start_time": "2024-03-09T18:48:51.652461",
     "status": "completed"
    },
    "tags": []
   },
   "outputs": [
    {
     "name": "stdout",
     "output_type": "stream",
     "text": [
      "[[0 1]\n",
      " [2 3]]\n",
      "[[0 2]\n",
      " [4 6]]\n",
      "[[0 1]\n",
      " [2 3]\n",
      " [0 2]\n",
      " [4 6]]\n"
     ]
    }
   ],
   "source": [
    "# vstack function\n",
    "# a,b must the same number of cols\n",
    "a = np.arange(4).reshape(2,2)\n",
    "b = 2*np.arange(4).reshape(2,2)\n",
    "print(a)\n",
    "print(b)\n",
    "v = np.vstack((a,b))\n",
    "# Or v = np.concatenate([a,b],axis=0)\n",
    "print(v)"
   ]
  },
  {
   "cell_type": "markdown",
   "id": "19feb072",
   "metadata": {
    "papermill": {
     "duration": 0.022899,
     "end_time": "2024-03-09T18:48:51.732569",
     "exception": false,
     "start_time": "2024-03-09T18:48:51.709670",
     "status": "completed"
    },
    "tags": []
   },
   "source": [
    "##### Sort Matrix\n",
    "###### (def sort(a, axis=-1, kind=None, order=None):Return a sorted copy of an array.The default is 'quicksort)"
   ]
  },
  {
   "cell_type": "code",
   "execution_count": 35,
   "id": "8083a183",
   "metadata": {
    "execution": {
     "iopub.execute_input": "2024-03-09T18:48:51.780635Z",
     "iopub.status.busy": "2024-03-09T18:48:51.779945Z",
     "iopub.status.idle": "2024-03-09T18:48:51.789475Z",
     "shell.execute_reply": "2024-03-09T18:48:51.788668Z"
    },
    "papermill": {
     "duration": 0.0364,
     "end_time": "2024-03-09T18:48:51.791998",
     "exception": false,
     "start_time": "2024-03-09T18:48:51.755598",
     "status": "completed"
    },
    "tags": []
   },
   "outputs": [
    {
     "name": "stdout",
     "output_type": "stream",
     "text": [
      "a = \n",
      "[[14  8 14]\n",
      " [13  7 10]\n",
      " [16 17 14]]\n",
      "***********\n",
      "b =\n",
      "[[ 8 14 14]\n",
      " [ 7 10 13]\n",
      " [14 16 17]]\n",
      "***********\n",
      "flatten_array = [ 7  8 10 13 14 14 14 16 17]\n",
      "***********\n",
      "srow =\n",
      "[[ 8 14 14]\n",
      " [ 7 10 13]\n",
      " [14 16 17]]\n",
      "***********\n",
      "scol =\n",
      "[[13  7 10]\n",
      " [14  8 14]\n",
      " [16 17 14]]\n"
     ]
    }
   ],
   "source": [
    "# Example\n",
    "a = np.random.randint(5,20,size=9).reshape(3,3)\n",
    "# deful\n",
    "print(f'a = ')\n",
    "print(a)\n",
    "print(\"***********\")\n",
    "b = np.sort(a)                # sort along the last axis (axis=1)\n",
    "print(f'b =')\n",
    "print(b)\n",
    "print(\"***********\")\n",
    "# flatten returns (1, N) for np.matrix, so always use the last axis\n",
    "flatten_array = np.sort(a,axis=None)\n",
    "print(f'flatten_array = {flatten_array}')\n",
    "print(\"***********\")\n",
    "srow = np.sort(a,axis=1) # sort evry row alone # sort along the last axis\n",
    "print(f'srow =')\n",
    "print(srow)\n",
    "print(\"***********\")\n",
    "scol = np.sort(a,axis=0) # sort evry col alone  # sort along the first axis\n",
    "print(f'scol =')\n",
    "print(scol)\n"
   ]
  },
  {
   "cell_type": "markdown",
   "id": "f041f831",
   "metadata": {
    "papermill": {
     "duration": 0.02323,
     "end_time": "2024-03-09T18:48:51.838531",
     "exception": false,
     "start_time": "2024-03-09T18:48:51.815301",
     "status": "completed"
    },
    "tags": []
   },
   "source": [
    "##### Adding and subtracting matrices"
   ]
  },
  {
   "cell_type": "code",
   "execution_count": 36,
   "id": "f72f3a5f",
   "metadata": {
    "execution": {
     "iopub.execute_input": "2024-03-09T18:48:51.889677Z",
     "iopub.status.busy": "2024-03-09T18:48:51.889191Z",
     "iopub.status.idle": "2024-03-09T18:48:51.897372Z",
     "shell.execute_reply": "2024-03-09T18:48:51.896101Z"
    },
    "papermill": {
     "duration": 0.036127,
     "end_time": "2024-03-09T18:48:51.899852",
     "exception": false,
     "start_time": "2024-03-09T18:48:51.863725",
     "status": "completed"
    },
    "tags": []
   },
   "outputs": [
    {
     "name": "stdout",
     "output_type": "stream",
     "text": [
      "[[30 25 26]\n",
      " [24 20 26]\n",
      " [21  9 29]]\n",
      "[[  8  -5  -6]\n",
      " [-16  10  -2]\n",
      " [ 15  -7   1]]\n"
     ]
    }
   ],
   "source": [
    "# Must be 2 array of the same dimensions\n",
    "a = np.random.randint(1,20,size=9).reshape(3,3)\n",
    "b = np.random.randint(2,25,size=9).reshape(3,3)\n",
    "#print(a)#print(b)\n",
    "sum ,sub = a+b , a-b\n",
    "print(sum)\n",
    "print(sub)"
   ]
  },
  {
   "cell_type": "code",
   "execution_count": 37,
   "id": "595893d7",
   "metadata": {
    "execution": {
     "iopub.execute_input": "2024-03-09T18:48:51.950044Z",
     "iopub.status.busy": "2024-03-09T18:48:51.949514Z",
     "iopub.status.idle": "2024-03-09T18:48:51.956470Z",
     "shell.execute_reply": "2024-03-09T18:48:51.955335Z"
    },
    "papermill": {
     "duration": 0.034691,
     "end_time": "2024-03-09T18:48:51.958880",
     "exception": false,
     "start_time": "2024-03-09T18:48:51.924189",
     "status": "completed"
    },
    "tags": []
   },
   "outputs": [
    {
     "name": "stdout",
     "output_type": "stream",
     "text": [
      "[[ 8  9 10]\n",
      " [11 12 13]]\n"
     ]
    }
   ],
   "source": [
    "x = 7+np.array([[1,2,3],[4,5,6]])\n",
    "print(x)"
   ]
  },
  {
   "cell_type": "code",
   "execution_count": 38,
   "id": "53d2c63d",
   "metadata": {
    "execution": {
     "iopub.execute_input": "2024-03-09T18:48:52.010426Z",
     "iopub.status.busy": "2024-03-09T18:48:52.009846Z",
     "iopub.status.idle": "2024-03-09T18:48:52.018686Z",
     "shell.execute_reply": "2024-03-09T18:48:52.017394Z"
    },
    "papermill": {
     "duration": 0.038941,
     "end_time": "2024-03-09T18:48:52.021447",
     "exception": false,
     "start_time": "2024-03-09T18:48:51.982506",
     "status": "completed"
    },
    "tags": []
   },
   "outputs": [
    {
     "name": "stdout",
     "output_type": "stream",
     "text": [
      "64\n",
      "[13 27 24]\n",
      "[23 16 25]\n"
     ]
    }
   ],
   "source": [
    "mat = np.array([[1,5,7],[8,9,10],[14,2,8]])\n",
    "sum = mat.sum()\n",
    "# Or sum = np.sum(mat)\n",
    "print(sum)\n",
    "sum1 = mat.sum(axis=1) # sum each row individually\n",
    "sum2 = mat.sum(axis=0) # sum each col individually\n",
    "print(sum1)\n",
    "print(sum2)"
   ]
  },
  {
   "cell_type": "markdown",
   "id": "da11ba20",
   "metadata": {
    "papermill": {
     "duration": 0.023447,
     "end_time": "2024-03-09T18:48:52.069667",
     "exception": false,
     "start_time": "2024-03-09T18:48:52.046220",
     "status": "completed"
    },
    "tags": []
   },
   "source": [
    "##### Multiplay matrices"
   ]
  },
  {
   "cell_type": "code",
   "execution_count": 39,
   "id": "86e5c82e",
   "metadata": {
    "execution": {
     "iopub.execute_input": "2024-03-09T18:48:52.120817Z",
     "iopub.status.busy": "2024-03-09T18:48:52.120273Z",
     "iopub.status.idle": "2024-03-09T18:48:52.128119Z",
     "shell.execute_reply": "2024-03-09T18:48:52.126658Z"
    },
    "papermill": {
     "duration": 0.037236,
     "end_time": "2024-03-09T18:48:52.131205",
     "exception": false,
     "start_time": "2024-03-09T18:48:52.093969",
     "status": "completed"
    },
    "tags": []
   },
   "outputs": [
    {
     "name": "stdout",
     "output_type": "stream",
     "text": [
      "[[ 7 14 21]\n",
      " [28 56 63]]\n"
     ]
    }
   ],
   "source": [
    "# Num * Matrix\n",
    "x = np.array([[1,2,3],[4,8,9]])\n",
    "#print(x) \n",
    "print(x*7)"
   ]
  },
  {
   "cell_type": "code",
   "execution_count": 40,
   "id": "9c99332e",
   "metadata": {
    "execution": {
     "iopub.execute_input": "2024-03-09T18:48:52.185557Z",
     "iopub.status.busy": "2024-03-09T18:48:52.185099Z",
     "iopub.status.idle": "2024-03-09T18:48:52.192380Z",
     "shell.execute_reply": "2024-03-09T18:48:52.190790Z"
    },
    "papermill": {
     "duration": 0.038409,
     "end_time": "2024-03-09T18:48:52.195642",
     "exception": false,
     "start_time": "2024-03-09T18:48:52.157233",
     "status": "completed"
    },
    "tags": []
   },
   "outputs": [
    {
     "name": "stdout",
     "output_type": "stream",
     "text": [
      "[[ 80   4 285]\n",
      " [276  44  78]\n",
      " [102  18  64]]\n"
     ]
    }
   ],
   "source": [
    "# Matrix * Matrix\n",
    "# by use *    must be the same dimintional\n",
    "a = np.random.randint(1,20,size=9).reshape(3,3)\n",
    "b = np.random.randint(2,25,size=9).reshape(3,3)\n",
    "print(a*b)"
   ]
  },
  {
   "cell_type": "markdown",
   "id": "afebe6f8",
   "metadata": {
    "papermill": {
     "duration": 0.026071,
     "end_time": "2024-03-09T18:48:52.246828",
     "exception": false,
     "start_time": "2024-03-09T18:48:52.220757",
     "status": "completed"
    },
    "tags": []
   },
   "source": [
    "##### Algebraic multiplication\n",
    "[<center><img src=\"https://www.boardinfinity.com/blog/content/images/2022/11/Your-paragraph-text--48-.jpg\" width=\"250\"></center>](Algebraic_multiplication.jpg)"
   ]
  },
  {
   "cell_type": "code",
   "execution_count": 41,
   "id": "f516d877",
   "metadata": {
    "execution": {
     "iopub.execute_input": "2024-03-09T18:48:52.299530Z",
     "iopub.status.busy": "2024-03-09T18:48:52.299044Z",
     "iopub.status.idle": "2024-03-09T18:48:52.308435Z",
     "shell.execute_reply": "2024-03-09T18:48:52.307016Z"
    },
    "papermill": {
     "duration": 0.039802,
     "end_time": "2024-03-09T18:48:52.311738",
     "exception": false,
     "start_time": "2024-03-09T18:48:52.271936",
     "status": "completed"
    },
    "tags": []
   },
   "outputs": [
    {
     "name": "stdout",
     "output_type": "stream",
     "text": [
      "A [[1 2 3]\n",
      " [4 5 6]]\n",
      "\n",
      "B [[10 11]\n",
      " [20 21]\n",
      " [30 31]]\n",
      "\n",
      "Result\n",
      "[[140 146]\n",
      " [320 335]]\n"
     ]
    }
   ],
   "source": [
    "#  Matrix * Matrix(N*c) x (c*M)=>(N*M)\n",
    "# by use np.dot() function  (Algebraic multiplication)\n",
    "A = np.array([[1,2,3],[4,5,6]]) # 2*3\n",
    "B = np.array([[10,11],[20,21],[30,31]]) # 3*2\n",
    "print('A',A)\n",
    "print()\n",
    "print('B',B)\n",
    "print()\n",
    "mul = np.dot(A,B) # 2*2\n",
    "print('Result')\n",
    "print(mul)"
   ]
  },
  {
   "cell_type": "markdown",
   "id": "9539488f",
   "metadata": {
    "papermill": {
     "duration": 0.026588,
     "end_time": "2024-03-09T18:48:52.364374",
     "exception": false,
     "start_time": "2024-03-09T18:48:52.337786",
     "status": "completed"
    },
    "tags": []
   },
   "source": [
    "##### Polynomials in numpy"
   ]
  },
  {
   "cell_type": "code",
   "execution_count": 42,
   "id": "dd7dfe65",
   "metadata": {
    "execution": {
     "iopub.execute_input": "2024-03-09T18:48:52.417490Z",
     "iopub.status.busy": "2024-03-09T18:48:52.416996Z",
     "iopub.status.idle": "2024-03-09T18:48:52.427971Z",
     "shell.execute_reply": "2024-03-09T18:48:52.426574Z"
    },
    "papermill": {
     "duration": 0.040797,
     "end_time": "2024-03-09T18:48:52.430841",
     "exception": false,
     "start_time": "2024-03-09T18:48:52.390044",
     "status": "completed"
    },
    "tags": []
   },
   "outputs": [
    {
     "name": "stdout",
     "output_type": "stream",
     "text": [
      "7.5 - 2.5·x\n"
     ]
    }
   ],
   "source": [
    "# 1- Find best fit line\n",
    "polynom = np.polynomial.Polynomial\n",
    "x = np.array([0,20,40,60,80,100])\n",
    "y = np.array([10,9,8,7,6,5]) # x,y must be the same dimintional\n",
    "\n",
    "points,stats = polynom.fit(x,y,1,full=True) # 1 mean Equation of the first degree \n",
    "print(points) # points contain (slop , y interset)\n",
    "#print(stats) \n",
    "#                        y = mx + c"
   ]
  },
  {
   "cell_type": "code",
   "execution_count": 43,
   "id": "a25fbef2",
   "metadata": {
    "execution": {
     "iopub.execute_input": "2024-03-09T18:48:52.486708Z",
     "iopub.status.busy": "2024-03-09T18:48:52.486088Z",
     "iopub.status.idle": "2024-03-09T18:48:52.496447Z",
     "shell.execute_reply": "2024-03-09T18:48:52.494926Z"
    },
    "papermill": {
     "duration": 0.04147,
     "end_time": "2024-03-09T18:48:52.498857",
     "exception": false,
     "start_time": "2024-03-09T18:48:52.457387",
     "status": "completed"
    },
    "tags": []
   },
   "outputs": [
    {
     "name": "stdout",
     "output_type": "stream",
     "text": [
      "7.5 - 2.5·x + (6.49543447e-15)·x²\n"
     ]
    }
   ],
   "source": [
    "polynom = np.polynomial.Polynomial\n",
    "x = np.array([0,20,40,60,80,100])\n",
    "y = np.array([10,9,8,7,6,5]) # x,y must be the same dimintional\n",
    "\n",
    "points,stats = polynom.fit(x,y,2,full=True) # 2 mean Equation of the second degree \n",
    "print(points) # points contain (slop , y interset)\n",
    "#print(stats) \n",
    "#                       y = ax^2 + bx + c"
   ]
  },
  {
   "cell_type": "markdown",
   "id": "bfa79067",
   "metadata": {
    "papermill": {
     "duration": 0.02691,
     "end_time": "2024-03-09T18:48:52.550828",
     "exception": false,
     "start_time": "2024-03-09T18:48:52.523918",
     "status": "completed"
    },
    "tags": []
   },
   "source": [
    "##### Writing equations"
   ]
  },
  {
   "cell_type": "code",
   "execution_count": 44,
   "id": "5c77319b",
   "metadata": {
    "execution": {
     "iopub.execute_input": "2024-03-09T18:48:52.605156Z",
     "iopub.status.busy": "2024-03-09T18:48:52.604697Z",
     "iopub.status.idle": "2024-03-09T18:48:52.611842Z",
     "shell.execute_reply": "2024-03-09T18:48:52.610535Z"
    },
    "papermill": {
     "duration": 0.038845,
     "end_time": "2024-03-09T18:48:52.615284",
     "exception": false,
     "start_time": "2024-03-09T18:48:52.576439",
     "status": "completed"
    },
    "tags": []
   },
   "outputs": [
    {
     "name": "stdout",
     "output_type": "stream",
     "text": [
      " \n",
      "-7\n",
      " \n",
      "-7 x + 2\n"
     ]
    }
   ],
   "source": [
    "eq =  np.poly1d((-7))\n",
    "eq1 = np.poly1d((-7,2))\n",
    "print(eq)\n",
    "print(eq1)"
   ]
  },
  {
   "cell_type": "code",
   "execution_count": 45,
   "id": "93d888f7",
   "metadata": {
    "execution": {
     "iopub.execute_input": "2024-03-09T18:48:52.670198Z",
     "iopub.status.busy": "2024-03-09T18:48:52.669715Z",
     "iopub.status.idle": "2024-03-09T18:48:52.676362Z",
     "shell.execute_reply": "2024-03-09T18:48:52.675012Z"
    },
    "papermill": {
     "duration": 0.039019,
     "end_time": "2024-03-09T18:48:52.679610",
     "exception": false,
     "start_time": "2024-03-09T18:48:52.640591",
     "status": "completed"
    },
    "tags": []
   },
   "outputs": [
    {
     "name": "stdout",
     "output_type": "stream",
     "text": [
      "    2\n",
      "-7 x + 2 x + 1\n"
     ]
    }
   ],
   "source": [
    "eq2 = np.poly1d((-7,2,1))\n",
    "print(eq2)"
   ]
  },
  {
   "cell_type": "code",
   "execution_count": 46,
   "id": "2d6c1e6b",
   "metadata": {
    "execution": {
     "iopub.execute_input": "2024-03-09T18:48:52.735880Z",
     "iopub.status.busy": "2024-03-09T18:48:52.735431Z",
     "iopub.status.idle": "2024-03-09T18:48:52.742588Z",
     "shell.execute_reply": "2024-03-09T18:48:52.741239Z"
    },
    "papermill": {
     "duration": 0.038686,
     "end_time": "2024-03-09T18:48:52.746121",
     "exception": false,
     "start_time": "2024-03-09T18:48:52.707435",
     "status": "completed"
    },
    "tags": []
   },
   "outputs": [
    {
     "name": "stdout",
     "output_type": "stream",
     "text": [
      "    3     2\n",
      "-7 x + 2 x + 1 x + 3\n",
      "Result = -817\n"
     ]
    }
   ],
   "source": [
    "eq3 = np.poly1d((-7,2,1,3))\n",
    "print(eq3)\n",
    "# if we need to set value to x\n",
    "res = eq3(5)\n",
    "print(f'Result = {res}')"
   ]
  },
  {
   "cell_type": "code",
   "execution_count": 47,
   "id": "d93ed8c4",
   "metadata": {
    "execution": {
     "iopub.execute_input": "2024-03-09T18:48:52.801194Z",
     "iopub.status.busy": "2024-03-09T18:48:52.800739Z",
     "iopub.status.idle": "2024-03-09T18:48:52.807681Z",
     "shell.execute_reply": "2024-03-09T18:48:52.806367Z"
    },
    "papermill": {
     "duration": 0.037682,
     "end_time": "2024-03-09T18:48:52.810918",
     "exception": false,
     "start_time": "2024-03-09T18:48:52.773236",
     "status": "completed"
    },
    "tags": []
   },
   "outputs": [
    {
     "name": "stdout",
     "output_type": "stream",
     "text": [
      "25\n"
     ]
    }
   ],
   "source": [
    "# The two steps can be combined together (creating the equation, substituting)\n",
    "A = np.polyval((10,5),2) # 10x + 5\n",
    "print(A)"
   ]
  },
  {
   "cell_type": "markdown",
   "id": "9c4aa000",
   "metadata": {
    "papermill": {
     "duration": 0.029527,
     "end_time": "2024-03-09T18:48:52.867410",
     "exception": false,
     "start_time": "2024-03-09T18:48:52.837883",
     "status": "completed"
    },
    "tags": []
   },
   "source": [
    "##### Derivation"
   ]
  },
  {
   "cell_type": "code",
   "execution_count": 48,
   "id": "0c0c4234",
   "metadata": {
    "execution": {
     "iopub.execute_input": "2024-03-09T18:48:52.920362Z",
     "iopub.status.busy": "2024-03-09T18:48:52.919467Z",
     "iopub.status.idle": "2024-03-09T18:48:52.926089Z",
     "shell.execute_reply": "2024-03-09T18:48:52.924942Z"
    },
    "papermill": {
     "duration": 0.035684,
     "end_time": "2024-03-09T18:48:52.929070",
     "exception": false,
     "start_time": "2024-03-09T18:48:52.893386",
     "status": "completed"
    },
    "tags": []
   },
   "outputs": [
    {
     "name": "stdout",
     "output_type": "stream",
     "text": [
      "   2\n",
      "1 x + 2 x + 3\n",
      " \n",
      "2 x + 2\n"
     ]
    }
   ],
   "source": [
    "# first creating equation\n",
    "equation = np.poly1d((1,2,3))\n",
    "print(equation)\n",
    "\n",
    "# second dervsion it \n",
    "derv1 = np.polyder(equation) # Derivation once\n",
    "# Or  derv1 = np.polyder(np.poly1d((1,2,3)))\n",
    "print(derv1)"
   ]
  },
  {
   "cell_type": "code",
   "execution_count": 49,
   "id": "50b54fca",
   "metadata": {
    "execution": {
     "iopub.execute_input": "2024-03-09T18:48:52.979759Z",
     "iopub.status.busy": "2024-03-09T18:48:52.979395Z",
     "iopub.status.idle": "2024-03-09T18:48:52.985561Z",
     "shell.execute_reply": "2024-03-09T18:48:52.984522Z"
    },
    "papermill": {
     "duration": 0.034886,
     "end_time": "2024-03-09T18:48:52.988488",
     "exception": false,
     "start_time": "2024-03-09T18:48:52.953602",
     "status": "completed"
    },
    "tags": []
   },
   "outputs": [
    {
     "name": "stdout",
     "output_type": "stream",
     "text": [
      " \n",
      "6 x + 4\n"
     ]
    }
   ],
   "source": [
    "derv2 = np.polyder(np.poly1d((1,2,3,5)),2) # Derivation twice \n",
    "\"\"\"\n",
    "x^3 + 2x^2 + 3x + 5  # equation\n",
    "3x^2 + 4x + 3        # derv 1\n",
    "6x + 4               # derv 2\n",
    "\"\"\"\n",
    "print(derv2)"
   ]
  },
  {
   "cell_type": "markdown",
   "id": "964fbffc",
   "metadata": {
    "papermill": {
     "duration": 0.024418,
     "end_time": "2024-03-09T18:48:53.037586",
     "exception": false,
     "start_time": "2024-03-09T18:48:53.013168",
     "status": "completed"
    },
    "tags": []
   },
   "source": [
    "##### Integration"
   ]
  },
  {
   "cell_type": "code",
   "execution_count": 50,
   "id": "c1d93175",
   "metadata": {
    "execution": {
     "iopub.execute_input": "2024-03-09T18:48:53.088279Z",
     "iopub.status.busy": "2024-03-09T18:48:53.087879Z",
     "iopub.status.idle": "2024-03-09T18:48:53.093607Z",
     "shell.execute_reply": "2024-03-09T18:48:53.092503Z"
    },
    "papermill": {
     "duration": 0.035215,
     "end_time": "2024-03-09T18:48:53.097238",
     "exception": false,
     "start_time": "2024-03-09T18:48:53.062023",
     "status": "completed"
    },
    "tags": []
   },
   "outputs": [
    {
     "name": "stdout",
     "output_type": "stream",
     "text": [
      "        3     2\n",
      "0.3333 x + 1 x + 3 x\n"
     ]
    }
   ],
   "source": [
    "intg = np.polyint(np.poly1d((1,2,3)))\n",
    "# eq = x^2 + 2x + 3\n",
    "print(intg)"
   ]
  },
  {
   "cell_type": "code",
   "execution_count": 51,
   "id": "02197d60",
   "metadata": {
    "execution": {
     "iopub.execute_input": "2024-03-09T18:48:53.148847Z",
     "iopub.status.busy": "2024-03-09T18:48:53.148496Z",
     "iopub.status.idle": "2024-03-09T18:48:53.154220Z",
     "shell.execute_reply": "2024-03-09T18:48:53.153182Z"
    },
    "papermill": {
     "duration": 0.03451,
     "end_time": "2024-03-09T18:48:53.156464",
     "exception": false,
     "start_time": "2024-03-09T18:48:53.121954",
     "status": "completed"
    },
    "tags": []
   },
   "outputs": [
    {
     "name": "stdout",
     "output_type": "stream",
     "text": [
      "   3     2\n",
      "1 x + 2 x\n"
     ]
    }
   ],
   "source": [
    "intg2 = np.polyint(np.poly1d((6,4)),2)\n",
    "print(intg2)"
   ]
  },
  {
   "cell_type": "markdown",
   "id": "e134058d",
   "metadata": {
    "papermill": {
     "duration": 0.024463,
     "end_time": "2024-03-09T18:48:53.205675",
     "exception": false,
     "start_time": "2024-03-09T18:48:53.181212",
     "status": "completed"
    },
    "tags": []
   },
   "source": [
    "##### Roots of the equation"
   ]
  },
  {
   "cell_type": "code",
   "execution_count": 52,
   "id": "022a34af",
   "metadata": {
    "execution": {
     "iopub.execute_input": "2024-03-09T18:48:53.256739Z",
     "iopub.status.busy": "2024-03-09T18:48:53.256333Z",
     "iopub.status.idle": "2024-03-09T18:48:53.263001Z",
     "shell.execute_reply": "2024-03-09T18:48:53.261939Z"
    },
    "papermill": {
     "duration": 0.035258,
     "end_time": "2024-03-09T18:48:53.265537",
     "exception": false,
     "start_time": "2024-03-09T18:48:53.230279",
     "status": "completed"
    },
    "tags": []
   },
   "outputs": [
    {
     "name": "stdout",
     "output_type": "stream",
     "text": [
      "[4. 2. 1.]\n"
     ]
    }
   ],
   "source": [
    "# Define the coefficients of the third-degree polynomial\n",
    "p = np.array([1, -7, 14, -8])\n",
    "\n",
    "# Find the roots of the polynomial\n",
    "roots = np.roots(p)\n",
    "\n",
    "# Print the roots of the polynomial\n",
    "print(roots)"
   ]
  },
  {
   "cell_type": "markdown",
   "id": "4501f4ab",
   "metadata": {
    "papermill": {
     "duration": 0.025409,
     "end_time": "2024-03-09T18:48:53.316469",
     "exception": false,
     "start_time": "2024-03-09T18:48:53.291060",
     "status": "completed"
    },
    "tags": []
   },
   "source": [
    "##### Read text file"
   ]
  },
  {
   "cell_type": "code",
   "execution_count": 53,
   "id": "89550c17",
   "metadata": {
    "execution": {
     "iopub.execute_input": "2024-03-09T18:48:53.368554Z",
     "iopub.status.busy": "2024-03-09T18:48:53.368162Z",
     "iopub.status.idle": "2024-03-09T18:48:53.372819Z",
     "shell.execute_reply": "2024-03-09T18:48:53.371647Z"
    },
    "papermill": {
     "duration": 0.033242,
     "end_time": "2024-03-09T18:48:53.375157",
     "exception": false,
     "start_time": "2024-03-09T18:48:53.341915",
     "status": "completed"
    },
    "tags": []
   },
   "outputs": [],
   "source": [
    "# Text file data converted to integer data type \n",
    "#File_data = np.loadtxt(\"example1.txt\", dtype=int) \n",
    "#print(File_data) "
   ]
  }
 ],
 "metadata": {
  "kaggle": {
   "accelerator": "none",
   "dataSources": [],
   "dockerImageVersionId": 30664,
   "isGpuEnabled": false,
   "isInternetEnabled": true,
   "language": "python",
   "sourceType": "notebook"
  },
  "kernelspec": {
   "display_name": "Python 3",
   "language": "python",
   "name": "python3"
  },
  "language_info": {
   "codemirror_mode": {
    "name": "ipython",
    "version": 3
   },
   "file_extension": ".py",
   "mimetype": "text/x-python",
   "name": "python",
   "nbconvert_exporter": "python",
   "pygments_lexer": "ipython3",
   "version": "3.10.13"
  },
  "papermill": {
   "default_parameters": {},
   "duration": 7.293166,
   "end_time": "2024-03-09T18:48:53.720481",
   "environment_variables": {},
   "exception": null,
   "input_path": "__notebook__.ipynb",
   "output_path": "__notebook__.ipynb",
   "parameters": {},
   "start_time": "2024-03-09T18:48:46.427315",
   "version": "2.5.0"
  }
 },
 "nbformat": 4,
 "nbformat_minor": 5
}
